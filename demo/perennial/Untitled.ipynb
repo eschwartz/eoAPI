{
 "cells": [
  {
   "cell_type": "code",
   "execution_count": 2,
   "id": "c6fbcf44-76bd-4593-8301-6321b30ea705",
   "metadata": {},
   "outputs": [],
   "source": [
    "from datetime import datetime\n",
    "\n",
    "import json\n",
    "import httpx\n",
    "\n",
    "import ipyleaflet\n",
    "from IPython.display import display, JSON\n",
    "\n",
    "raster_endpoint = \"http://127.0.0.1:8082\""
   ]
  },
  {
   "cell_type": "code",
   "execution_count": 11,
   "id": "65c703ce-7d6e-4ace-b7c6-60456566f712",
   "metadata": {},
   "outputs": [
    {
     "name": "stdout",
     "output_type": "stream",
     "text": [
      "url http://127.0.0.1:8082/collections/atlas-soc/WebMercatorQuad/tilejson.json\n",
      "tilejson\n"
     ]
    },
    {
     "data": {
      "application/json": {
       "bounds": [
        -125.24730245890062,
        24.77854100733869,
        -66.81665429793158,
        49.55036340943472
       ],
       "center": [
        -96.0319783784161,
        37.164452208386706,
        12
       ],
       "maxzoom": 19,
       "minzoom": 12,
       "name": "Mosaic for 'atlas-soc' Collection",
       "scheme": "xyz",
       "tilejson": "2.2.0",
       "tiles": [
        "http://127.0.0.1:8082/collections/atlas-soc/tiles/WebMercatorQuad/{z}/{x}/{y}?assets=visual"
       ],
       "version": "1.0.0"
      },
      "text/plain": [
       "<IPython.core.display.JSON object>"
      ]
     },
     "metadata": {
      "application/json": {
       "expanded": false,
       "root": "root"
      }
     },
     "output_type": "display_data"
    },
    {
     "data": {
      "application/vnd.jupyter.widget-view+json": {
       "model_id": "a3feaf9893d94121a38bb4c5f76a7ec3",
       "version_major": 2,
       "version_minor": 0
      },
      "text/plain": [
       "Map(center=[37.164452208386706, -96.0319783784161], controls=(ZoomControl(options=['position', 'zoom_in_text',…"
      ]
     },
     "execution_count": 11,
     "metadata": {},
     "output_type": "execute_result"
    }
   ],
   "source": [
    "# `visual` Asset\n",
    "\n",
    "# FIX URL\n",
    "collection_id = \"atlas-soc\"\n",
    "url = f\"{raster_endpoint}/collections/{collection_id}/WebMercatorQuad/tilejson.json\"\n",
    "print(\"url\", url)\n",
    "\n",
    "tilejson = httpx.get(\n",
    "    url,\n",
    "    params = (\n",
    "        (\"assets\", \"visual\"),  # THIS PARAMETER IS MANDATORY\n",
    "        (\"minzoom\", 12),  # By default the tiler will use 0\n",
    "        (\"maxzoom\", 19), # By default the tiler will use 24\n",
    "    )\n",
    ").json()\n",
    "print(\"tilejson\")\n",
    "display(JSON(tilejson))\n",
    "\n",
    "bounds = tilejson[\"bounds\"]\n",
    "m = ipyleaflet.leaflet.Map(\n",
    "    center=((bounds[1] + bounds[3]) / 2,(bounds[0] + bounds[2]) / 2),\n",
    "    zoom=4\n",
    ")\n",
    "\n",
    "# geo_json = ipyleaflet.leaflet.GeoJSON(\n",
    "#     data=item,\n",
    "#     style={\n",
    "#         'opacity': 1, 'dashArray': '9', 'fillOpacity': 0., 'weight': 4\n",
    "#     }\n",
    "# )\n",
    "# m.add_layer(geo_json)\n",
    "\n",
    "tiles = ipyleaflet.leaflet.TileLayer(\n",
    "    # url=tilejson[\"tiles\"][0],\n",
    "    url=\"http://127.0.0.1:8082/collections/atlas-soc/tiles/WebMercatorQuad/{z}/{x}/{y}?assets=cog&colormap_name=viridis&rescale=0.19,5.12\",\n",
    "    # min_zoom=tilejson[\"minzoom\"],\n",
    "    # max_zoom=tilejson[\"maxzoom\"],\n",
    "    bounds=[\n",
    "        [bounds[1], bounds[0]],\n",
    "        [bounds[3], bounds[2]],\n",
    "\n",
    "    ],\n",
    ")\n",
    "\n",
    "m.add_layer(tiles)\n",
    "\n",
    "m"
   ]
  },
  {
   "cell_type": "code",
   "execution_count": 12,
   "id": "74e5d126-b63a-432e-b36d-abcc17dbcc6d",
   "metadata": {},
   "outputs": [
    {
     "data": {
      "application/json": {
       "id": "64b1afe59a25d6e4f9af590b040d9bdf",
       "links": [
        {
         "href": "http://127.0.0.1:8082/searches/64b1afe59a25d6e4f9af590b040d9bdf/info",
         "rel": "metadata",
         "title": "Mosaic metadata"
        },
        {
         "href": "http://127.0.0.1:8082/searches/64b1afe59a25d6e4f9af590b040d9bdf/{tileMatrixSetId}/tilejson.json",
         "rel": "tilejson",
         "templated": true,
         "title": "Link for TileJSON (Template URL)"
        },
        {
         "href": "http://127.0.0.1:8082/searches/64b1afe59a25d6e4f9af590b040d9bdf/{tileMatrixSetId}/map",
         "rel": "map",
         "templated": true,
         "title": "Link for Map viewer (Template URL)"
        },
        {
         "href": "http://127.0.0.1:8082/searches/64b1afe59a25d6e4f9af590b040d9bdf/{tileMatrixSetId}/WMTSCapabilities.xml",
         "rel": "wmts",
         "templated": true,
         "title": "Link for WMTS (Template URL)"
        }
       ]
      },
      "text/plain": [
       "<IPython.core.display.JSON object>"
      ]
     },
     "metadata": {
      "application/json": {
       "expanded": false,
       "root": "root"
      }
     },
     "output_type": "display_data"
    }
   ],
   "source": [
    "search_res = httpx.post(\n",
    "    f\"{raster_endpoint}/searches/register\",\n",
    "    data=json.dumps(\n",
    "        {\n",
    "            \"filter-lang\": 'cql2-json',\n",
    "            \"filter\": {\n",
    "                \"op\": 'and', \n",
    "                \"args\": [\n",
    "                    {\n",
    "                        \"op\": \"in\", \n",
    "                        \"args\": [{\"property\": \"collection\"}, [collection_id]]\n",
    "                    },\n",
    "                ],\n",
    "            },\n",
    "            \n",
    "        }\n",
    "    )\n",
    ").json()\n",
    "\n",
    "display(JSON(search_res))"
   ]
  },
  {
   "cell_type": "code",
   "execution_count": 15,
   "id": "c336ffe8-492a-4dce-94dd-570832801326",
   "metadata": {},
   "outputs": [
    {
     "data": {
      "application/json": {
       "bounds": [
        -180,
        -85.0511287798066,
        180.00000000000009,
        85.0511287798066
       ],
       "center": [
        4.263256414560601e-14,
        0,
        12
       ],
       "maxzoom": 19,
       "minzoom": 12,
       "name": "64b1afe59a25d6e4f9af590b040d9bdf",
       "scheme": "xyz",
       "tilejson": "2.2.0",
       "tiles": [
        "http://127.0.0.1:8082/searches/64b1afe59a25d6e4f9af590b040d9bdf/tiles/WebMercatorQuad/{z}/{x}/{y}?assets=cog"
       ],
       "version": "1.0.0"
      },
      "text/plain": [
       "<IPython.core.display.JSON object>"
      ]
     },
     "metadata": {
      "application/json": {
       "expanded": false,
       "root": "root"
      }
     },
     "output_type": "display_data"
    },
    {
     "data": {
      "application/vnd.jupyter.widget-view+json": {
       "model_id": "ed20401dda574372bc49f7ec37594172",
       "version_major": 2,
       "version_minor": 0
      },
      "text/plain": [
       "Map(center=[0.0, 4.263256414560601e-14], controls=(ZoomControl(options=['position', 'zoom_in_text', 'zoom_in_t…"
      ]
     },
     "execution_count": 15,
     "metadata": {},
     "output_type": "execute_result"
    }
   ],
   "source": [
    "search_id = search_res[\"id\"]\n",
    "\n",
    "tilejson = httpx.get(\n",
    "    f\"{raster_endpoint}/searches/{search_id}/WebMercatorQuad/tilejson.json\",\n",
    "    params = (\n",
    "        (\"assets\", \"cog\"),  # THIS IS MANDATORY\n",
    "        (\"minzoom\", 12),\n",
    "        (\"maxzoom\", 19), \n",
    "    )\n",
    ").json()\n",
    "display(JSON(tilejson))\n",
    "\n",
    "bounds = tilejson[\"bounds\"]\n",
    "m = ipyleaflet.leaflet.Map(\n",
    "    center=((bounds[1] + bounds[3]) / 2,(bounds[0] + bounds[2]) / 2),\n",
    "    zoom=4\n",
    ")\n",
    "\n",
    "# geo_json = ipyleaflet.leaflet.GeoJSON(\n",
    "#     data={\"type\": \"FeatureCollection\", \"features\": pre_items}, \n",
    "#     style={\n",
    "#         \"fillOpacity\": 0,\n",
    "#         \"weight\": 1,\n",
    "#     },\n",
    "# )\n",
    "# m.add_layer(geo_json)\n",
    "\n",
    "tiles = ipyleaflet.leaflet.TileLayer(\n",
    "    url=tilejson[\"tiles\"][0],\n",
    "    # min_zoom=tilejson[\"minzoom\"],\n",
    "    # max_zoom=tilejson[\"maxzoom\"],\n",
    "    bounds=[\n",
    "        [bounds[1], bounds[0]],\n",
    "        [bounds[3], bounds[2]],\n",
    "\n",
    "    ],\n",
    ")\n",
    "\n",
    "m.add_layer(tiles)\n",
    "m"
   ]
  },
  {
   "cell_type": "code",
   "execution_count": null,
   "id": "137c4426-44ec-47a7-8f08-48d825ae8372",
   "metadata": {},
   "outputs": [],
   "source": []
  }
 ],
 "metadata": {
  "kernelspec": {
   "display_name": "Python 3 (ipykernel)",
   "language": "python",
   "name": "python3"
  },
  "language_info": {
   "codemirror_mode": {
    "name": "ipython",
    "version": 3
   },
   "file_extension": ".py",
   "mimetype": "text/x-python",
   "name": "python",
   "nbconvert_exporter": "python",
   "pygments_lexer": "ipython3",
   "version": "3.11.9"
  }
 },
 "nbformat": 4,
 "nbformat_minor": 5
}
